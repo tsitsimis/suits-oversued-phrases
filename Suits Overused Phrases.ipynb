{
 "cells": [
  {
   "cell_type": "markdown",
   "metadata": {},
   "source": [
    "# SUITS Overused phrases\n",
    "\n",
    "<img src=\"images/suits.png\" width=\"400px\" />\n",
    "\n",
    "Whoever has watched enough of the TV show [Suits](https://www.imdb.com/title/tt1632701/) knows that there are specific phrases repeated over and over in many episodes. Not only that but these phrases are used by many characters, as if they all have the same way of talking.  \n",
    "\n",
    "Feeling the urge to quantify this observation, this notebook downloads, parses and analyses all the subtitles from all **134 episodes** (9 seasons) of Suits. It uses n-grams to assit finding common phrases and regular expressions to match them and similar ones in the subtitles corpus.\n",
    "\n",
    "Sources of inspiration and common phrases:\n",
    "- [Reddit post 1](https://www.reddit.com/r/suits/comments/grr7rv/overused_phrases_in_suits/)\n",
    "- [Reddit post 2](https://www.reddit.com/r/suits/comments/44bzdx/most_used_phrases_in_suits/)\n",
    "- [Reddit post 3](https://www.reddit.com/r/suits/comments/8npigk/can_we_compile_a_list_of_overused_suits_phrases/)\n",
    "- [Reddit post 4](https://www.reddit.com/r/suits/comments/60iur6/goddamn_word_count/)"
   ]
  },
  {
   "cell_type": "code",
   "execution_count": 1,
   "metadata": {},
   "outputs": [],
   "source": [
    "from collections import Counter\n",
    "\n",
    "from bs4 import BeautifulSoup\n",
    "import requests\n",
    "import pandas as pd\n",
    "from nltk import ngrams\n",
    "from scipy.interpolate import interp1d\n",
    "import matplotlib.pyplot as plt\n",
    "import numpy as np"
   ]
  },
  {
   "cell_type": "markdown",
   "metadata": {},
   "source": [
    "## 1. Walk though paginated list of URLs to transcripts\n",
    "![](images/transcripts-webpage.png)"
   ]
  },
  {
   "cell_type": "code",
   "execution_count": 2,
   "metadata": {},
   "outputs": [],
   "source": [
    "base_url = \"https://tvshowtranscripts.ourboard.org\""
   ]
  },
  {
   "cell_type": "code",
   "execution_count": 3,
   "metadata": {},
   "outputs": [],
   "source": [
    "episodes_page_0 = requests.get(\n",
    "    base_url + \"/viewforum.php?f=189\",\n",
    "    headers={\n",
    "        \"User-Agent\": \"Mozilla/5.0 (Windows NT 10.0; Win64; x64) AppleWebKit/537.36 (KHTML, like Gecko) Chrome/85.0.4183.102 Safari/537.36\"\n",
    "    }).text\n",
    "\n",
    "episodes_soup = BeautifulSoup(episodes_page_0, \"html.parser\")"
   ]
  },
  {
   "cell_type": "markdown",
   "metadata": {},
   "source": [
    "### Links to episodes lists"
   ]
  },
  {
   "cell_type": "code",
   "execution_count": 4,
   "metadata": {},
   "outputs": [
    {
     "data": {
      "text/plain": [
       "['https://tvshowtranscripts.ourboard.org/viewforum.php?f=189',\n",
       " 'https://tvshowtranscripts.ourboard.org/viewforum.php?f=189&sid=689bf73ef643fcc249b56c1163d544ac&start=25',\n",
       " 'https://tvshowtranscripts.ourboard.org/viewforum.php?f=189&sid=689bf73ef643fcc249b56c1163d544ac&start=50',\n",
       " 'https://tvshowtranscripts.ourboard.org/viewforum.php?f=189&sid=689bf73ef643fcc249b56c1163d544ac&start=75',\n",
       " 'https://tvshowtranscripts.ourboard.org/viewforum.php?f=189&sid=689bf73ef643fcc249b56c1163d544ac&start=100',\n",
       " 'https://tvshowtranscripts.ourboard.org/viewforum.php?f=189&sid=689bf73ef643fcc249b56c1163d544ac&start=125']"
      ]
     },
     "execution_count": 4,
     "metadata": {},
     "output_type": "execute_result"
    }
   ],
   "source": [
    "paginated_episodes_urls = [x[\"href\"] for x in episodes_soup.select(\"b.pagination\")[0].findChildren(\"a\")][0:-1]\n",
    "paginated_episodes_urls = [base_url + \"/viewforum.php?f=189\"] + [base_url + x[1:] for x in paginated_episodes_urls]\n",
    "paginated_episodes_urls"
   ]
  },
  {
   "cell_type": "code",
   "execution_count": 5,
   "metadata": {},
   "outputs": [],
   "source": [
    "anchors_to_subs = []\n",
    "for url in paginated_episodes_urls:\n",
    "    episodes_page = requests.get(\n",
    "        url,\n",
    "        headers={\n",
    "            \"User-Agent\": \"Mozilla/5.0 (Windows NT 10.0; Win64; x64) AppleWebKit/537.36 (KHTML, like Gecko) Chrome/85.0.4183.102 Safari/537.36\"\n",
    "        }).text\n",
    "    \n",
    "    episodes_soup = BeautifulSoup(episodes_page, \"html.parser\")\n",
    "    \n",
    "    anchors_to_subs.extend(episodes_soup.select(\"a.topictitle\"))"
   ]
  },
  {
   "cell_type": "code",
   "execution_count": 6,
   "metadata": {},
   "outputs": [
    {
     "data": {
      "text/plain": [
       "134"
      ]
     },
     "execution_count": 6,
     "metadata": {},
     "output_type": "execute_result"
    }
   ],
   "source": [
    "len(anchors_to_subs)"
   ]
  },
  {
   "cell_type": "code",
   "execution_count": 8,
   "metadata": {},
   "outputs": [],
   "source": [
    "urls_to_subs = [base_url + x[\"href\"][1:] for x in anchors_to_subs]"
   ]
  },
  {
   "cell_type": "markdown",
   "metadata": {},
   "source": [
    "## 2. Visit each episode's page and collect transcripts"
   ]
  },
  {
   "cell_type": "code",
   "execution_count": 189,
   "metadata": {},
   "outputs": [
    {
     "name": "stdout",
     "output_type": "stream",
     "text": [
      "9 x 10                \r"
     ]
    }
   ],
   "source": [
    "doc = []\n",
    "\n",
    "for url in urls_to_subs:\n",
    "    episode_page = requests.get(\n",
    "        url,\n",
    "        headers={\n",
    "            \"User-Agent\": \"Mozilla/5.0 (Windows NT 10.0; Win64; x64) AppleWebKit/537.36 (KHTML, like Gecko) Chrome/85.0.4183.102 Safari/537.36\"\n",
    "        }).text\n",
    "    \n",
    "    episode_soup = BeautifulSoup(episode_page, \"html.parser\")\n",
    "    # text = list(map(lambda x: x.text, episode_soup.select(\"div.postbody > p\")))\n",
    "    text = list(map(lambda x: x.text, episode_soup.select(\"p\")))\n",
    "    text = list(filter(lambda x: x[0] != \"[\", text))\n",
    "    \n",
    "    header = episode_soup.select(\"div.t-header.clearfix > div.pull-left > a\")[0].text\n",
    "    season_episode = header.split(\" - \")[0]\n",
    "    season, episode = season_episode.split(\"x\")\n",
    "    season, episode = int(season), int(episode)\n",
    "    title = header.split(\" - \")[1]\n",
    "    \n",
    "    print(f\"{season} x {episode}                \", end=\"\\r\")\n",
    "    \n",
    "    doc.append({\n",
    "        \"season\": season,\n",
    "        \"episode\": episode,\n",
    "        \"title\": title,\n",
    "        \"text\": text\n",
    "    })"
   ]
  },
  {
   "cell_type": "code",
   "execution_count": 190,
   "metadata": {},
   "outputs": [
    {
     "data": {
      "text/plain": [
       "134"
      ]
     },
     "execution_count": 190,
     "metadata": {},
     "output_type": "execute_result"
    }
   ],
   "source": [
    "len(doc)"
   ]
  },
  {
   "cell_type": "markdown",
   "metadata": {},
   "source": [
    "### Some preprocessing"
   ]
  },
  {
   "cell_type": "code",
   "execution_count": 191,
   "metadata": {},
   "outputs": [],
   "source": [
    "for d in doc:\n",
    "    d[\"text\"] = list(map(str.lower, d[\"text\"]))"
   ]
  },
  {
   "cell_type": "code",
   "execution_count": 192,
   "metadata": {},
   "outputs": [],
   "source": [
    "df = pd.DataFrame(doc)"
   ]
  },
  {
   "cell_type": "code",
   "execution_count": 193,
   "metadata": {},
   "outputs": [],
   "source": [
    "df = df.explode(\"text\")"
   ]
  },
  {
   "cell_type": "code",
   "execution_count": 194,
   "metadata": {},
   "outputs": [],
   "source": [
    "df = df[~df[\"text\"].str.contains(\"♪\")]  # Remove song lyrics\n",
    "df = df[~df[\"text\"].str.contains(\"\\(\")]  # Remove non dialog text\n",
    "df = df[~df[\"text\"].str.contains(\"\\)\")]"
   ]
  },
  {
   "cell_type": "code",
   "execution_count": 195,
   "metadata": {},
   "outputs": [],
   "source": [
    "df = df.reset_index().drop(\"index\", axis=1)"
   ]
  },
  {
   "cell_type": "code",
   "execution_count": 196,
   "metadata": {},
   "outputs": [
    {
     "data": {
      "text/html": [
       "<div>\n",
       "<style scoped>\n",
       "    .dataframe tbody tr th:only-of-type {\n",
       "        vertical-align: middle;\n",
       "    }\n",
       "\n",
       "    .dataframe tbody tr th {\n",
       "        vertical-align: top;\n",
       "    }\n",
       "\n",
       "    .dataframe thead th {\n",
       "        text-align: right;\n",
       "    }\n",
       "</style>\n",
       "<table border=\"1\" class=\"dataframe\">\n",
       "  <thead>\n",
       "    <tr style=\"text-align: right;\">\n",
       "      <th></th>\n",
       "      <th>season</th>\n",
       "      <th>episode</th>\n",
       "      <th>title</th>\n",
       "      <th>text</th>\n",
       "    </tr>\n",
       "  </thead>\n",
       "  <tbody>\n",
       "    <tr>\n",
       "      <th>0</th>\n",
       "      <td>1</td>\n",
       "      <td>1</td>\n",
       "      <td>Pilot</td>\n",
       "      <td>transcripts » tv show transcripts » s » suits</td>\n",
       "    </tr>\n",
       "    <tr>\n",
       "      <th>1</th>\n",
       "      <td>1</td>\n",
       "      <td>1</td>\n",
       "      <td>Pilot</td>\n",
       "      <td>gerald tate's here.</td>\n",
       "    </tr>\n",
       "    <tr>\n",
       "      <th>2</th>\n",
       "      <td>1</td>\n",
       "      <td>1</td>\n",
       "      <td>Pilot</td>\n",
       "      <td>he wants to know what's happening to his deal.</td>\n",
       "    </tr>\n",
       "    <tr>\n",
       "      <th>3</th>\n",
       "      <td>1</td>\n",
       "      <td>1</td>\n",
       "      <td>Pilot</td>\n",
       "      <td>go get harvey.</td>\n",
       "    </tr>\n",
       "    <tr>\n",
       "      <th>4</th>\n",
       "      <td>1</td>\n",
       "      <td>1</td>\n",
       "      <td>Pilot</td>\n",
       "      <td>i check.</td>\n",
       "    </tr>\n",
       "  </tbody>\n",
       "</table>\n",
       "</div>"
      ],
      "text/plain": [
       "   season  episode  title                                            text\n",
       "0       1        1  Pilot   transcripts » tv show transcripts » s » suits\n",
       "1       1        1  Pilot                             gerald tate's here.\n",
       "2       1        1  Pilot  he wants to know what's happening to his deal.\n",
       "3       1        1  Pilot                                  go get harvey.\n",
       "4       1        1  Pilot                                        i check."
      ]
     },
     "execution_count": 196,
     "metadata": {},
     "output_type": "execute_result"
    }
   ],
   "source": [
    "df.head()"
   ]
  },
  {
   "cell_type": "markdown",
   "metadata": {},
   "source": [
    "## 3. Extract most common phrases and their counts"
   ]
  },
  {
   "cell_type": "markdown",
   "metadata": {},
   "source": [
    "### Most common N-grams"
   ]
  },
  {
   "cell_type": "code",
   "execution_count": 210,
   "metadata": {},
   "outputs": [],
   "source": [
    "all_text = \" \".join(df[\"text\"].values.tolist())"
   ]
  },
  {
   "cell_type": "code",
   "execution_count": 211,
   "metadata": {},
   "outputs": [
    {
     "data": {
      "text/plain": [
       "[(('what', 'are', 'you'), 965),\n",
       " (('what', 'do', 'you'), 723),\n",
       " (('you', 'want', 'to'), 606),\n",
       " (('i', 'want', 'to'), 455),\n",
       " (('i', \"don't\", 'want'), 454),\n",
       " (('what', 'the', 'hell'), 450),\n",
       " (('i', \"don't\", 'know'), 444),\n",
       " (('are', 'you', 'talking'), 420),\n",
       " (('you', 'talking', 'about?'), 410),\n",
       " ((\"don't\", 'want', 'to'), 400)]"
      ]
     },
     "execution_count": 211,
     "metadata": {},
     "output_type": "execute_result"
    }
   ],
   "source": [
    "ngram_counts = Counter(ngrams(all_text.split(), 3))\n",
    "ngram_counts.most_common(10)"
   ]
  },
  {
   "cell_type": "markdown",
   "metadata": {},
   "source": [
    "### All common phrases\n",
    "These are extracted from reddit posts (see top cell), personal memories and most common n-grams  \n",
    "Some are in Regular Expression form to match similar phrases"
   ]
  },
  {
   "cell_type": "code",
   "execution_count": 212,
   "metadata": {},
   "outputs": [],
   "source": [
    "common_phrases = [\n",
    "    \"what did you just say\",\n",
    "    \"that's enough\",\n",
    "    \"you're goddamn right\",\n",
    "    \"not now\",\n",
    "    \"whatever it is.*wait\",\n",
    "    \"that's funny because\",\n",
    "    \"you better (?!than)\",\n",
    "    \"(?:they|i|you|we|she|he) might as well\",\n",
    "    \"goddamn it\",\n",
    "    \"why are you telling me\",\n",
    "    \"listen to me\",\n",
    "    \"and you know it\",\n",
    "    \"you son of a bitch\",\n",
    "    \"we had a deal\",\n",
    "    \"piece of sh\",\n",
    "    \"i don't give a sh\",\n",
    "    \"what now\",\n",
    "    \"whatever it is, \",\n",
    "    \"you have my word\",\n",
    "    \"like i said\",\n",
    "    \"i'm done (?:\\w+ing|with)\",\n",
    "    \"don't (?:want to|wanna) talk about it\",\n",
    "    \"wait a minute\",\n",
    "    \"now[,]{0,1} if you'll excuse me\",\n",
    "    \"what (?:the hell|)are you doing here\",\n",
    "    \"what (?:the hell|)are you talking about\",\n",
    "    \"(?:look|looked) me in the eye\",\n",
    "    \"let me get this straight\",\n",
    "    \"stay the hell away from\",\n",
    "    \"you gave me your word\",\n",
    "    \"let me guess\",\n",
    "    \"come all the way\",\n",
    "    \"what can i do for you\",\n",
    "    \"what do you want me to say\",\n",
    "    \"in the first place\",\n",
    "    \"in the middle of something\",\n",
    "    \"whatever it takes\",\n",
    "    \"as far as i'm concerned\",\n",
    "    \"what's that supposed to mean\"\n",
    "]"
   ]
  },
  {
   "cell_type": "code",
   "execution_count": 213,
   "metadata": {},
   "outputs": [],
   "source": [
    "common_phrases_df = pd.DataFrame({\"phrase\": common_phrases, \"count\": 0, \"n_episodes\": 0})\n",
    "\n",
    "for phrase in common_phrases:\n",
    "    rows_with_phrase = df[df[\"text\"].str.contains(phrase)]\n",
    "    \n",
    "    common_phrases_df.loc[common_phrases_df[\"phrase\"] == phrase, \"count\"] = rows_with_phrase.shape[0]\n",
    "    common_phrases_df.loc[common_phrases_df[\"phrase\"] == phrase, \"n_episodes\"] = rows_with_phrase[\"episode\"].nunique()"
   ]
  },
  {
   "cell_type": "code",
   "execution_count": 214,
   "metadata": {},
   "outputs": [],
   "source": [
    "common_phrases_df[\"count_per_episode\"] = common_phrases_df[\"count\"] / common_phrases_df[\"n_episodes\"]"
   ]
  },
  {
   "cell_type": "code",
   "execution_count": 215,
   "metadata": {
    "scrolled": true
   },
   "outputs": [
    {
     "data": {
      "text/html": [
       "<div>\n",
       "<style scoped>\n",
       "    .dataframe tbody tr th:only-of-type {\n",
       "        vertical-align: middle;\n",
       "    }\n",
       "\n",
       "    .dataframe tbody tr th {\n",
       "        vertical-align: top;\n",
       "    }\n",
       "\n",
       "    .dataframe thead th {\n",
       "        text-align: right;\n",
       "    }\n",
       "</style>\n",
       "<table border=\"1\" class=\"dataframe\">\n",
       "  <thead>\n",
       "    <tr style=\"text-align: right;\">\n",
       "      <th></th>\n",
       "      <th>phrase</th>\n",
       "      <th>count</th>\n",
       "      <th>n_episodes</th>\n",
       "      <th>count_per_episode</th>\n",
       "    </tr>\n",
       "  </thead>\n",
       "  <tbody>\n",
       "    <tr>\n",
       "      <th>25</th>\n",
       "      <td>what (?:the hell|)are you talking about</td>\n",
       "      <td>319</td>\n",
       "      <td>16</td>\n",
       "      <td>19.937500</td>\n",
       "    </tr>\n",
       "    <tr>\n",
       "      <th>34</th>\n",
       "      <td>in the first place</td>\n",
       "      <td>317</td>\n",
       "      <td>16</td>\n",
       "      <td>19.812500</td>\n",
       "    </tr>\n",
       "    <tr>\n",
       "      <th>10</th>\n",
       "      <td>listen to me</td>\n",
       "      <td>268</td>\n",
       "      <td>16</td>\n",
       "      <td>16.750000</td>\n",
       "    </tr>\n",
       "    <tr>\n",
       "      <th>24</th>\n",
       "      <td>what (?:the hell|)are you doing here</td>\n",
       "      <td>260</td>\n",
       "      <td>16</td>\n",
       "      <td>16.250000</td>\n",
       "    </tr>\n",
       "    <tr>\n",
       "      <th>15</th>\n",
       "      <td>i don't give a sh</td>\n",
       "      <td>181</td>\n",
       "      <td>16</td>\n",
       "      <td>11.312500</td>\n",
       "    </tr>\n",
       "    <tr>\n",
       "      <th>6</th>\n",
       "      <td>you better (?!than)</td>\n",
       "      <td>175</td>\n",
       "      <td>16</td>\n",
       "      <td>10.937500</td>\n",
       "    </tr>\n",
       "    <tr>\n",
       "      <th>11</th>\n",
       "      <td>and you know it</td>\n",
       "      <td>140</td>\n",
       "      <td>16</td>\n",
       "      <td>8.750000</td>\n",
       "    </tr>\n",
       "    <tr>\n",
       "      <th>30</th>\n",
       "      <td>let me guess</td>\n",
       "      <td>122</td>\n",
       "      <td>16</td>\n",
       "      <td>7.625000</td>\n",
       "    </tr>\n",
       "    <tr>\n",
       "      <th>1</th>\n",
       "      <td>that's enough</td>\n",
       "      <td>94</td>\n",
       "      <td>16</td>\n",
       "      <td>5.875000</td>\n",
       "    </tr>\n",
       "    <tr>\n",
       "      <th>32</th>\n",
       "      <td>what can i do for you</td>\n",
       "      <td>90</td>\n",
       "      <td>16</td>\n",
       "      <td>5.625000</td>\n",
       "    </tr>\n",
       "    <tr>\n",
       "      <th>7</th>\n",
       "      <td>(?:they|i|you|we|she|he) might as well</td>\n",
       "      <td>84</td>\n",
       "      <td>16</td>\n",
       "      <td>5.250000</td>\n",
       "    </tr>\n",
       "    <tr>\n",
       "      <th>19</th>\n",
       "      <td>like i said</td>\n",
       "      <td>76</td>\n",
       "      <td>16</td>\n",
       "      <td>4.750000</td>\n",
       "    </tr>\n",
       "    <tr>\n",
       "      <th>14</th>\n",
       "      <td>piece of sh</td>\n",
       "      <td>75</td>\n",
       "      <td>16</td>\n",
       "      <td>4.687500</td>\n",
       "    </tr>\n",
       "    <tr>\n",
       "      <th>17</th>\n",
       "      <td>whatever it is,</td>\n",
       "      <td>64</td>\n",
       "      <td>16</td>\n",
       "      <td>4.000000</td>\n",
       "    </tr>\n",
       "    <tr>\n",
       "      <th>12</th>\n",
       "      <td>you son of a bitch</td>\n",
       "      <td>62</td>\n",
       "      <td>16</td>\n",
       "      <td>3.875000</td>\n",
       "    </tr>\n",
       "    <tr>\n",
       "      <th>27</th>\n",
       "      <td>let me get this straight</td>\n",
       "      <td>58</td>\n",
       "      <td>15</td>\n",
       "      <td>3.866667</td>\n",
       "    </tr>\n",
       "    <tr>\n",
       "      <th>37</th>\n",
       "      <td>as far as i'm concerned</td>\n",
       "      <td>58</td>\n",
       "      <td>15</td>\n",
       "      <td>3.866667</td>\n",
       "    </tr>\n",
       "    <tr>\n",
       "      <th>8</th>\n",
       "      <td>goddamn it</td>\n",
       "      <td>52</td>\n",
       "      <td>13</td>\n",
       "      <td>4.000000</td>\n",
       "    </tr>\n",
       "    <tr>\n",
       "      <th>22</th>\n",
       "      <td>wait a minute</td>\n",
       "      <td>46</td>\n",
       "      <td>14</td>\n",
       "      <td>3.285714</td>\n",
       "    </tr>\n",
       "    <tr>\n",
       "      <th>0</th>\n",
       "      <td>what did you just say</td>\n",
       "      <td>42</td>\n",
       "      <td>14</td>\n",
       "      <td>3.000000</td>\n",
       "    </tr>\n",
       "    <tr>\n",
       "      <th>20</th>\n",
       "      <td>i'm done (?:\\w+ing|with)</td>\n",
       "      <td>35</td>\n",
       "      <td>13</td>\n",
       "      <td>2.692308</td>\n",
       "    </tr>\n",
       "    <tr>\n",
       "      <th>3</th>\n",
       "      <td>not now</td>\n",
       "      <td>31</td>\n",
       "      <td>14</td>\n",
       "      <td>2.214286</td>\n",
       "    </tr>\n",
       "    <tr>\n",
       "      <th>23</th>\n",
       "      <td>now[,]{0,1} if you'll excuse me</td>\n",
       "      <td>30</td>\n",
       "      <td>13</td>\n",
       "      <td>2.307692</td>\n",
       "    </tr>\n",
       "    <tr>\n",
       "      <th>36</th>\n",
       "      <td>whatever it takes</td>\n",
       "      <td>29</td>\n",
       "      <td>14</td>\n",
       "      <td>2.071429</td>\n",
       "    </tr>\n",
       "    <tr>\n",
       "      <th>33</th>\n",
       "      <td>what do you want me to say</td>\n",
       "      <td>25</td>\n",
       "      <td>13</td>\n",
       "      <td>1.923077</td>\n",
       "    </tr>\n",
       "    <tr>\n",
       "      <th>38</th>\n",
       "      <td>what's that supposed to mean</td>\n",
       "      <td>25</td>\n",
       "      <td>12</td>\n",
       "      <td>2.083333</td>\n",
       "    </tr>\n",
       "    <tr>\n",
       "      <th>16</th>\n",
       "      <td>what now</td>\n",
       "      <td>25</td>\n",
       "      <td>11</td>\n",
       "      <td>2.272727</td>\n",
       "    </tr>\n",
       "    <tr>\n",
       "      <th>18</th>\n",
       "      <td>you have my word</td>\n",
       "      <td>24</td>\n",
       "      <td>12</td>\n",
       "      <td>2.000000</td>\n",
       "    </tr>\n",
       "    <tr>\n",
       "      <th>21</th>\n",
       "      <td>don't (?:want to|wanna) talk about it</td>\n",
       "      <td>22</td>\n",
       "      <td>12</td>\n",
       "      <td>1.833333</td>\n",
       "    </tr>\n",
       "    <tr>\n",
       "      <th>26</th>\n",
       "      <td>(?:look|looked) me in the eye</td>\n",
       "      <td>18</td>\n",
       "      <td>13</td>\n",
       "      <td>1.384615</td>\n",
       "    </tr>\n",
       "    <tr>\n",
       "      <th>9</th>\n",
       "      <td>why are you telling me</td>\n",
       "      <td>18</td>\n",
       "      <td>10</td>\n",
       "      <td>1.800000</td>\n",
       "    </tr>\n",
       "    <tr>\n",
       "      <th>35</th>\n",
       "      <td>in the middle of something</td>\n",
       "      <td>17</td>\n",
       "      <td>9</td>\n",
       "      <td>1.888889</td>\n",
       "    </tr>\n",
       "    <tr>\n",
       "      <th>31</th>\n",
       "      <td>come all the way</td>\n",
       "      <td>16</td>\n",
       "      <td>9</td>\n",
       "      <td>1.777778</td>\n",
       "    </tr>\n",
       "    <tr>\n",
       "      <th>4</th>\n",
       "      <td>whatever it is.*wait</td>\n",
       "      <td>16</td>\n",
       "      <td>9</td>\n",
       "      <td>1.777778</td>\n",
       "    </tr>\n",
       "    <tr>\n",
       "      <th>13</th>\n",
       "      <td>we had a deal</td>\n",
       "      <td>14</td>\n",
       "      <td>11</td>\n",
       "      <td>1.272727</td>\n",
       "    </tr>\n",
       "    <tr>\n",
       "      <th>28</th>\n",
       "      <td>stay the hell away from</td>\n",
       "      <td>13</td>\n",
       "      <td>11</td>\n",
       "      <td>1.181818</td>\n",
       "    </tr>\n",
       "    <tr>\n",
       "      <th>2</th>\n",
       "      <td>you're goddamn right</td>\n",
       "      <td>12</td>\n",
       "      <td>8</td>\n",
       "      <td>1.500000</td>\n",
       "    </tr>\n",
       "    <tr>\n",
       "      <th>29</th>\n",
       "      <td>you gave me your word</td>\n",
       "      <td>12</td>\n",
       "      <td>8</td>\n",
       "      <td>1.500000</td>\n",
       "    </tr>\n",
       "    <tr>\n",
       "      <th>5</th>\n",
       "      <td>that's funny because</td>\n",
       "      <td>6</td>\n",
       "      <td>6</td>\n",
       "      <td>1.000000</td>\n",
       "    </tr>\n",
       "  </tbody>\n",
       "</table>\n",
       "</div>"
      ],
      "text/plain": [
       "                                     phrase  count  n_episodes  \\\n",
       "25  what (?:the hell|)are you talking about    319          16   \n",
       "34                       in the first place    317          16   \n",
       "10                             listen to me    268          16   \n",
       "24     what (?:the hell|)are you doing here    260          16   \n",
       "15                        i don't give a sh    181          16   \n",
       "6                       you better (?!than)    175          16   \n",
       "11                          and you know it    140          16   \n",
       "30                             let me guess    122          16   \n",
       "1                             that's enough     94          16   \n",
       "32                    what can i do for you     90          16   \n",
       "7    (?:they|i|you|we|she|he) might as well     84          16   \n",
       "19                              like i said     76          16   \n",
       "14                              piece of sh     75          16   \n",
       "17                         whatever it is,      64          16   \n",
       "12                       you son of a bitch     62          16   \n",
       "27                 let me get this straight     58          15   \n",
       "37                  as far as i'm concerned     58          15   \n",
       "8                                goddamn it     52          13   \n",
       "22                            wait a minute     46          14   \n",
       "0                     what did you just say     42          14   \n",
       "20                 i'm done (?:\\w+ing|with)     35          13   \n",
       "3                                   not now     31          14   \n",
       "23          now[,]{0,1} if you'll excuse me     30          13   \n",
       "36                        whatever it takes     29          14   \n",
       "33               what do you want me to say     25          13   \n",
       "38             what's that supposed to mean     25          12   \n",
       "16                                 what now     25          11   \n",
       "18                         you have my word     24          12   \n",
       "21    don't (?:want to|wanna) talk about it     22          12   \n",
       "26            (?:look|looked) me in the eye     18          13   \n",
       "9                    why are you telling me     18          10   \n",
       "35               in the middle of something     17           9   \n",
       "31                         come all the way     16           9   \n",
       "4                      whatever it is.*wait     16           9   \n",
       "13                            we had a deal     14          11   \n",
       "28                  stay the hell away from     13          11   \n",
       "2                      you're goddamn right     12           8   \n",
       "29                    you gave me your word     12           8   \n",
       "5                      that's funny because      6           6   \n",
       "\n",
       "    count_per_episode  \n",
       "25          19.937500  \n",
       "34          19.812500  \n",
       "10          16.750000  \n",
       "24          16.250000  \n",
       "15          11.312500  \n",
       "6           10.937500  \n",
       "11           8.750000  \n",
       "30           7.625000  \n",
       "1            5.875000  \n",
       "32           5.625000  \n",
       "7            5.250000  \n",
       "19           4.750000  \n",
       "14           4.687500  \n",
       "17           4.000000  \n",
       "12           3.875000  \n",
       "27           3.866667  \n",
       "37           3.866667  \n",
       "8            4.000000  \n",
       "22           3.285714  \n",
       "0            3.000000  \n",
       "20           2.692308  \n",
       "3            2.214286  \n",
       "23           2.307692  \n",
       "36           2.071429  \n",
       "33           1.923077  \n",
       "38           2.083333  \n",
       "16           2.272727  \n",
       "18           2.000000  \n",
       "21           1.833333  \n",
       "26           1.384615  \n",
       "9            1.800000  \n",
       "35           1.888889  \n",
       "31           1.777778  \n",
       "4            1.777778  \n",
       "13           1.272727  \n",
       "28           1.181818  \n",
       "2            1.500000  \n",
       "29           1.500000  \n",
       "5            1.000000  "
      ]
     },
     "execution_count": 215,
     "metadata": {},
     "output_type": "execute_result"
    }
   ],
   "source": [
    "common_phrases_df = common_phrases_df.sort_values(by=\"count\", ascending=False)\n",
    "common_phrases_df"
   ]
  },
  {
   "cell_type": "markdown",
   "metadata": {},
   "source": [
    "## 4. Visualize phrase count per season"
   ]
  },
  {
   "cell_type": "code",
   "execution_count": 236,
   "metadata": {},
   "outputs": [
    {
     "data": {
      "image/png": "[encoded data removed]",
      "text/plain": [
       "<Figure size 576x144 with 1 Axes>"
      ]
     },
     "metadata": {
      "needs_background": "light"
     },
     "output_type": "display_data"
    }
   ],
   "source": [
    "ts = df[df[\"text\"].str.contains(\"what did you just say\")].groupby(\"season\")[\"text\"].count()\n",
    "ts = ts.reindex(range(1, 11)).fillna(0.0)\n",
    "\n",
    "fig, ax = plt.subplots(figsize=(8, 2))\n",
    "color = \"#FF6600\"\n",
    "\n",
    "ax.plot(np.arange(1, 9.1, 0.1), interp1d(ts.index.values, ts.values, kind='cubic')(np.arange(1, 9.1, 0.1)),\n",
    "        c=color, linewidth=4)\n",
    "ax.scatter(ts.index[:-1], ts.values[:-1], c=color, s=100)\n",
    "\n",
    "ax.axis(\"off\")\n",
    "ax.set_facecolor((0.0, 0.0, 0.0, 0.0))\n",
    "fig.show()"
   ]
  },
  {
   "cell_type": "code",
   "execution_count": null,
   "metadata": {},
   "outputs": [],
   "source": []
  }
 ],
 "metadata": {
  "kernelspec": {
   "display_name": "Python 3",
   "language": "python",
   "name": "python3"
  },
  "language_info": {
   "codemirror_mode": {
    "name": "ipython",
    "version": 3
   },
   "file_extension": ".py",
   "mimetype": "text/x-python",
   "name": "python",
   "nbconvert_exporter": "python",
   "pygments_lexer": "ipython3",
   "version": "3.8.5"
  }
 },
 "nbformat": 4,
 "nbformat_minor": 4
}
